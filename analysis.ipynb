{
 "cells": [
  {
   "attachments": {},
   "cell_type": "markdown",
   "metadata": {},
   "source": [
    "# Data Project From Gett: Insights from failed orders"
   ]
  },
  {
   "attachments": {},
   "cell_type": "markdown",
   "metadata": {},
   "source": [
    "### Table of contents:\n",
    "\n",
    "Introduction <br>\n",
    "Data Description <br>\n",
    "Assignments <br>\n",
    "Data exploration <br>\n",
    "Answer Questions"
   ]
  },
  {
   "attachments": {},
   "cell_type": "markdown",
   "metadata": {},
   "source": [
    "### Introduction:\n",
    "Gett, previously known as GetTaxi, is a technology platform solely focused on corporate Ground Transportation Management (GTM). They have an application where clients can order taxis, and drivers can accept their rides (offers). At the moment, when the client clicks the Order button in the application, the matching system searches for the most relevant drivers and offers them the order. In this task, we would like to investigate some matching metrics for orders that did not completed successfully, i.e., the customer didn't end up getting a car."
   ]
  },
  {
   "attachments": {},
   "cell_type": "markdown",
   "metadata": {},
   "source": [
    "### Data Description:\n",
    "\n",
    "We have two data sets: data_orders and data_offers, both being stored in a CSV format. The data_orders data set contains the following columns:\n",
    "\n",
    "* order_datetime - time of the order\n",
    "* origin_longitude - longitude of the order\n",
    "* origin_latitude - latitude of the order\n",
    "* m_order_eta - time before order arrival\n",
    "* order_gk - order number\n",
    "* order_status_key - status, an enumeration consisting of the following mapping:\n",
    "    - 4 - cancelled by client,\n",
    "    - 9 - cancelled by system, i.e., a reject\n",
    "    \n",
    "* is_driver_assigned_key - whether a driver has been assigned\n",
    "* cancellation_time_in_seconds - how many seconds passed before cancellation\n",
    "* The data_offers data set is a simple map with 2 columns:\n",
    "\n",
    "* order_gk - order number, associated with the same column from the orders data set\n",
    "* offer_id - ID of an offer"
   ]
  },
  {
   "attachments": {},
   "cell_type": "markdown",
   "metadata": {},
   "source": [
    "### Assignemts:\n",
    "Please complete the following tasks.\n",
    "\n",
    "1) Build up distribution of orders according to reasons for failure: cancellations before and after driver assignment, and reasons for order rejection. Analyse the resulting plot. Which category has the highest number of orders?\n",
    "2) Plot the distribution of failed orders by hours. Is there a trend that certain hours have an abnormally high proportion of one category or another? What hours are the biggest fails? How can this be explained?\n",
    "3) Plot the average time to cancellation with and without driver, by the hour. If there are any outliers in the data, it would be better to remove them. Can we draw any conclusions from this plot?\n",
    "4) Plot the distribution of average ETA by hours. How can this plot be explained?"
   ]
  },
  {
   "cell_type": "code",
   "execution_count": null,
   "metadata": {},
   "outputs": [],
   "source": []
  }
 ],
 "metadata": {
  "kernelspec": {
   "display_name": "base",
   "language": "python",
   "name": "python3"
  },
  "language_info": {
   "name": "python",
   "version": "3.9.16"
  },
  "orig_nbformat": 4,
  "vscode": {
   "interpreter": {
    "hash": "3ccaf298d201bc398615905e9acf4448ceb40b6b7983b3a1b2bf1cf76cb2a0b1"
   }
  }
 },
 "nbformat": 4,
 "nbformat_minor": 2
}
